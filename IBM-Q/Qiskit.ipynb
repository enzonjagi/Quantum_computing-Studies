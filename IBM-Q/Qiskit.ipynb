{
 "cells": [
  {
   "cell_type": "code",
   "execution_count": null,
   "metadata": {},
   "outputs": [],
   "source": [
    "\"\"\"\n",
    "Why do we measure Algorithms?\n",
    "* To Estimate the amount of time that a computer might take to solve a given problem\n",
    "However, despite the speed of modern-day computers, there are problems that can be too difficult\n",
    "for them to solve. \n",
    "* One solution to this problem would be finding algorithms that grow more efficiently.\n",
    "Thus introducing:\n",
    "QUANTUM COMPUTERS\n",
    "* Quantum computers provide the answer in that you can create more efficient algorithms\n",
    "Therefore making complex algorithms manageable.\n",
    "* Quantum advantage is a term that defines the ability of a computer to solve problems that a classical computer\n",
    "is yet to solve.\n",
    "* at IBM this ha not been achived yet with the company having Quantum computer running at 65 qubits that produces noise\n",
    "which is wrong output that cannot be easily distinguished from the correct output\n",
    "* Next lesson will be on the atoms of computation\n",
    "\"\"\"\n"
   ]
  },
  {
   "cell_type": "code",
   "execution_count": 1,
   "metadata": {},
   "outputs": [
    {
     "data": {
      "text/html": [
       "<pre style=\"word-wrap: normal;white-space: pre;background: #fff0;line-height: 1.1;font-family: &quot;Courier New&quot;,Courier,monospace\">     \n",
       "q_0: \n",
       "     \n",
       "q_1: \n",
       "     \n",
       "q_2: \n",
       "     \n",
       "c: 3/\n",
       "     </pre>"
      ],
      "text/plain": [
       "     \n",
       "q_0: \n",
       "     \n",
       "q_1: \n",
       "     \n",
       "q_2: \n",
       "     \n",
       "c: 3/\n",
       "     "
      ]
     },
     "execution_count": 1,
     "metadata": {},
     "output_type": "execute_result"
    }
   ],
   "source": [
    "\"\"\"\n",
    "Creating circuits with Qiskit\n",
    "1. To create this we'll need ti import the QuantumCircuit class\n",
    "2. Create a new QuantumCircuit object\n",
    "3. Tell Python how many qubits(Quantum Bits) our circuits should have\n",
    "4. Optionally we can tell it how many classical buts to assing the circuit\n",
    "these classical bits are used to store measurements of our qubits(TBD)\n",
    "\"\"\"\n",
    "from qiskit import QuantumCircuit\n",
    "# Create quantum circuit with 3 qubits and 3 classical bits\n",
    "qc = QuantumCircuit(3, 3)\n",
    "qc.draw() # should return a drawing of the circuit"
   ]
  },
  {
   "cell_type": "code",
   "execution_count": null,
   "metadata": {},
   "outputs": [],
   "source": []
  }
 ],
 "metadata": {
  "interpreter": {
   "hash": "916dbcbb3f70747c44a77c7bcd40155683ae19c65e1c03b4aa3499c5328201f1"
  },
  "kernelspec": {
   "display_name": "Python 3.8.10 64-bit",
   "language": "python",
   "name": "python3"
  },
  "language_info": {
   "codemirror_mode": {
    "name": "ipython",
    "version": 3
   },
   "file_extension": ".py",
   "mimetype": "text/x-python",
   "name": "python",
   "nbconvert_exporter": "python",
   "pygments_lexer": "ipython3",
   "version": "3.8.10"
  },
  "orig_nbformat": 4
 },
 "nbformat": 4,
 "nbformat_minor": 2
}
