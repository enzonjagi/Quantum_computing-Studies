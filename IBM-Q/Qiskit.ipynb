{
 "cells": [
  {
   "cell_type": "code",
   "execution_count": null,
   "metadata": {},
   "outputs": [],
   "source": [
    "\"\"\"\n",
    "Why do we measure Algorithms?\n",
    "* To Estimate the amount of time that a computer might take to solve a given problem\n",
    "However, despite the speed of modern-day computers, there are problems that can be too difficult\n",
    "for them to solve. \n",
    "* One solution to this problem would be finding algorithms that grow more efficiently.\n",
    "Thus introducing:\n",
    "QUANTUM COMPUTERS\n",
    "* Quantum computers provide the answer in that you can create more efficient algorithms\n",
    "Therefore making complex algorithms manageable.\n",
    "* Quantum advantage is a term that defines the ability of a computer to solve problems that a classical computer\n",
    "is yet to solve.\n",
    "* at IBM this ha not been achived yet with the company having Quantum computer running at 65 qubits that produces noise\n",
    "which is wrong output that cannot be easily distinguished from the correct output\n",
    "* Next lesson will be on the atoms of computation\n",
    "\"\"\""
   ]
  }
 ],
 "metadata": {
  "language_info": {
   "name": "python"
  },
  "orig_nbformat": 4
 },
 "nbformat": 4,
 "nbformat_minor": 2
}
