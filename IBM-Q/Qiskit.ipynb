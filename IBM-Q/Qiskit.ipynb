{
 "cells": [
  {
   "cell_type": "code",
   "execution_count": null,
   "metadata": {},
   "outputs": [],
   "source": [
    "\"\"\"\n",
    "Why do we measure Algorithms?\n",
    "* To Estimate the amount of time that a computer might take to solve a given problem\n",
    "However, despite the speed of modern-day computers, there are problems that can be too difficult\n",
    "for them to solve. \n",
    "* One solution to this problem would be finding algorithms that grow more efficiently.\n",
    "Thus introducing:\n",
    "QUANTUM COMPUTERS\n",
    "* Quantum computers provide the answer in that you can create more efficient algorithms\n",
    "Therefore making complex algorithms manageable.\n",
    "* Quantum advantage is a term that defines the ability of a computer to solve problems that a classical computer\n",
    "is yet to solve.\n",
    "* at IBM this has not been achived yet with the company having Quantum computer running at 65 qubits that produces noise\n",
    "which is wrong output that cannot be easily distinguished from the correct output\n",
    "* Next lesson will be on the atoms of computation\n",
    "\"\"\"\n"
   ]
  },
  {
   "cell_type": "code",
   "execution_count": 5,
   "metadata": {},
   "outputs": [
    {
     "data": {
      "text/html": [
       "<pre style=\"word-wrap: normal;white-space: pre;background: #fff0;line-height: 1.1;font-family: &quot;Courier New&quot;,Courier,monospace\">     ┌─┐      \n",
       "q_0: ┤M├──────\n",
       "     └╥┘┌─┐   \n",
       "q_1: ─╫─┤M├───\n",
       "      ║ └╥┘┌─┐\n",
       "q_2: ─╫──╫─┤M├\n",
       "      ║  ║ └╥┘\n",
       "c: 3/═╩══╩══╩═\n",
       "      0  1  2 </pre>"
      ],
      "text/plain": [
       "     ┌─┐      \n",
       "q_0: ┤M├──────\n",
       "     └╥┘┌─┐   \n",
       "q_1: ─╫─┤M├───\n",
       "      ║ └╥┘┌─┐\n",
       "q_2: ─╫──╫─┤M├\n",
       "      ║  ║ └╥┘\n",
       "c: 3/═╩══╩══╩═\n",
       "      0  1  2 "
      ]
     },
     "execution_count": 5,
     "metadata": {},
     "output_type": "execute_result"
    }
   ],
   "source": [
    "\"\"\"\n",
    "Creating circuits with Qiskit\n",
    "1. To create this we'll need to import the QuantumCircuit class\n",
    "2. Create a new QuantumCircuit object\n",
    "3. Tell Python how many qubits(Quantum Bits) our circuits should have\n",
    "4. Optionally we can tell it how many classical buts to assign the circuit\n",
    "these classical bits are used to store measurements of our qubits(TBD)\n",
    "\"\"\"\n",
    "from qiskit import QuantumCircuit\n",
    "# Create quantum circuit with 3 qubits and 3 classical bits\n",
    "qc = QuantumCircuit(3, 3)\n",
    "# measure qubits 0, 1 & 2 to classical bits 0, 1 & 2 respectively\n",
    "qc.measure([0,1,2], [0,1,2])\n",
    "qc.draw() # should return a drawing of the circuit\n"
   ]
  },
  {
   "cell_type": "code",
   "execution_count": 6,
   "metadata": {},
   "outputs": [
    {
     "data": {
      "text/plain": [
       "{'000': 1024}"
      ]
     },
     "execution_count": 6,
     "metadata": {},
     "output_type": "execute_result"
    }
   ],
   "source": [
    "from qiskit import QuantumCircuit\n",
    "# Create quantum circuit with 3 qubits and 3 classical bits\n",
    "qc = QuantumCircuit(3, 3)\n",
    "# measure qubits 0, 1 & 2 to classical bits 0, 1 & 2 respectively\n",
    "qc.measure([0,1,2], [0,1,2])\n",
    "qc.draw() # should return a drawing of the circuit\n",
    "\n",
    "# Checking the results of running the circuit\n",
    "# We do this using a quantum simulator: A standard computer calculating what an ideal quantum computer would do\n",
    "from qiskit.providers.aer import AerSimulator\n",
    "sim = AerSimulator() # new simulator object\n",
    "# We use the .run() method to do the simulation, which returns a \"job\"\n",
    "# a \"job\" contains information about the experiment\n",
    "job = sim.run(qc) # running experiment\n",
    "result = job.result() # store the results\n",
    "result.get_counts() # interpret results as a \"count\" dictionary\n",
    "# keys in counts are bit_strings \n",
    "# and values are number of times the bit string was measured\n"
   ]
  },
  {
   "cell_type": "code",
   "execution_count": 47,
   "metadata": {},
   "outputs": [
    {
     "data": {
      "text/html": [
       "<pre style=\"word-wrap: normal;white-space: pre;background: #fff0;line-height: 1.1;font-family: &quot;Courier New&quot;,Courier,monospace\">     ┌───┐┌─┐   \n",
       "q_0: ┤ X ├┤M├───\n",
       "     ├───┤└╥┘┌─┐\n",
       "q_1: ┤ X ├─╫─┤M├\n",
       "     └┬─┬┘ ║ └╥┘\n",
       "q_2: ─┤M├──╫──╫─\n",
       "      └╥┘  ║  ║ \n",
       "c: 3/══╩═══╩══╩═\n",
       "       2   0  1 </pre>"
      ],
      "text/plain": [
       "     ┌───┐┌─┐   \n",
       "q_0: ┤ X ├┤M├───\n",
       "     ├───┤└╥┘┌─┐\n",
       "q_1: ┤ X ├─╫─┤M├\n",
       "     └┬─┬┘ ║ └╥┘\n",
       "q_2: ─┤M├──╫──╫─\n",
       "      └╥┘  ║  ║ \n",
       "c: 3/══╩═══╩══╩═\n",
       "       2   0  1 "
      ]
     },
     "execution_count": 47,
     "metadata": {},
     "output_type": "execute_result"
    }
   ],
   "source": [
    "# Encoding input\n",
    "# How to encode a binary string as an input\n",
    "# we will need a NOT gate which flips bit values\n",
    "# for qubits we use the X-gate\n",
    "\n",
    "# creating the circuit\n",
    "qc = QuantumCircuit(3,3)\n",
    "qc.x([0,1]) # perform X-gates on qubits 0 & 1\n",
    "qc.measure([0,1,2], [0,1,2])\n",
    "qc.draw() # drawing of the circuit"
   ]
  },
  {
   "cell_type": "code",
   "execution_count": 4,
   "metadata": {},
   "outputs": [
    {
     "data": {
      "text/html": [
       "<pre style=\"word-wrap: normal;white-space: pre;background: #fff0;line-height: 1.1;font-family: &quot;Courier New&quot;,Courier,monospace\">     ┌───┐┌─┐   \n",
       "q_0: ┤ X ├┤M├───\n",
       "     ├───┤└╥┘┌─┐\n",
       "q_1: ┤ X ├─╫─┤M├\n",
       "     └┬─┬┘ ║ └╥┘\n",
       "q_2: ─┤M├──╫──╫─\n",
       "      └╥┘  ║  ║ \n",
       "c: 3/══╩═══╩══╩═\n",
       "       2   0  1 </pre>"
      ],
      "text/plain": [
       "     ┌───┐┌─┐   \n",
       "q_0: ┤ X ├┤M├───\n",
       "     ├───┤└╥┘┌─┐\n",
       "q_1: ┤ X ├─╫─┤M├\n",
       "     └┬─┬┘ ║ └╥┘\n",
       "q_2: ─┤M├──╫──╫─\n",
       "      └╥┘  ║  ║ \n",
       "c: 3/══╩═══╩══╩═\n",
       "       2   0  1 "
      ]
     },
     "execution_count": 4,
     "metadata": {},
     "output_type": "execute_result"
    }
   ],
   "source": [
    "from qiskit import QuantumCircuit\n",
    "# Create quantum circuit with 3 qubits and 3 classical bits\n",
    "qc = QuantumCircuit(3, 3)\n",
    "# measure qubits 0, 1 & 2 to classical bits 0, 1 & 2 respectively\n",
    "qc.measure([0,1,2], [0,1,2])\n",
    "qc.draw() # should return a drawing of the circuit\n",
    "# Encoding input\n",
    "# How to encode a binary string as an input\n",
    "# we will need a NOT gate which flips bit values\n",
    "# for qubits we use the X-gate\n",
    "\n",
    "# creating the circuit\n",
    "qc = QuantumCircuit(3,3)\n",
    "qc.x([0,1]) # perform X-gates on qubits 0 & 1\n",
    "qc.measure([0,1,2], [0,1,2])\n",
    "qc.draw() # drawing of the circuit\n"
   ]
  },
  {
   "cell_type": "code",
   "execution_count": 5,
   "metadata": {},
   "outputs": [
    {
     "data": {
      "text/plain": [
       "{'011': 1024}"
      ]
     },
     "execution_count": 5,
     "metadata": {},
     "output_type": "execute_result"
    }
   ],
   "source": [
    "# Checking the results of running the circuit\n",
    "# We do this using a qunatum simulator: A standard computer calculating what an ideal quantum computer would do\n",
    "from qiskit.providers.aer import AerSimulator\n",
    "sim = AerSimulator() # new simulator object\n",
    "# We use the .run() method to do the simulation, which returns a \"job\"\n",
    "# a \"job\" contains information about the experiment\n",
    "job = sim.run(qc) # running experiment\n",
    "result = job.result() # store the results\n",
    "result.get_counts() # interpret results as a \"count\" dictionary\n",
    "# keys in counts are bit_strings \n",
    "# and values are number of times the bit string was measured\n",
    "\n",
    "# simulate the circuit\n",
    "job = sim.run(qc)\n",
    "result = job.result()\n",
    "result.get_counts()"
   ]
  },
  {
   "cell_type": "code",
   "execution_count": 7,
   "metadata": {},
   "outputs": [
    {
     "data": {
      "text/html": [
       "<pre style=\"word-wrap: normal;white-space: pre;background: #fff0;line-height: 1.1;font-family: &quot;Courier New&quot;,Courier,monospace\">     ┌───┐     ┌─┐   \n",
       "q_0: ┤ X ├──■──┤M├───\n",
       "     └───┘┌─┴─┐└╥┘┌─┐\n",
       "q_1: ─────┤ X ├─╫─┤M├\n",
       "          └───┘ ║ └╥┘\n",
       "c: 2/═══════════╩══╩═\n",
       "                0  1 </pre>"
      ],
      "text/plain": [
       "     ┌───┐     ┌─┐   \n",
       "q_0: ┤ X ├──■──┤M├───\n",
       "     └───┘┌─┴─┐└╥┘┌─┐\n",
       "q_1: ─────┤ X ├─╫─┤M├\n",
       "          └───┘ ║ └╥┘\n",
       "c: 2/═══════════╩══╩═\n",
       "                0  1 "
      ]
     },
     "metadata": {},
     "output_type": "display_data"
    },
    {
     "name": "stdout",
     "output_type": "stream",
     "text": [
      "Results:  {'11': 1024}\n"
     ]
    }
   ],
   "source": [
    "\"\"\"\n",
    "Adding with Quantum Circuits\n",
    "We'll be creating out own Half adder from a Quantum Circuit\n",
    "Broken down into parts;\n",
    "1. Encoding the input: in our example let's encode a '1' in the qubits 0 and 1\n",
    "2. Executing the algorithm: finding the sum of 1 + 1 from the above qubits\n",
    "3. Extracting the results: this will be read out from qubits 2 and 3\n",
    "\n",
    "CALCULATING THE RIGHTMOST BIT\n",
    "the half adder needs to add bits following the rules;\n",
    "1. if the bits are the same then the rightmost bit will be 0: \n",
    "    i.e 0+0 = 0 and 1 + 1 = 1\n",
    "2. if the bits are different then the rightmost bits will be 1:\n",
    "    i.e. 0 + 1 = 1, 1 + 0 = 1\n",
    "\n",
    "In classical digital computing we need an XOR gate to figure out whether\n",
    "the two bits are different or not. In quanutm computing this is done by the\n",
    "controlled-NOT gate(CNOT).\n",
    "\n",
    "Let's try this out by using the .cx() method to add a CNOT to our circuit\n",
    "\"\"\"\n",
    "\n",
    "# Create a quantum circuit with 2 qubits and 2 classical bits\n",
    "qc = QuantumCircuit(2, 2)\n",
    "qc.x(0)\n",
    "qc.cx(0,1) # CNOT controlled by the qubit 0 and targeting qubit 1\n",
    "qc.measure([0,1], [0,1])\n",
    "display(qc.draw()) # display a drawing of the circuit\n",
    "\n",
    "job = sim.run(qc)# run the experiment\n",
    "result = job.result() # get the results\n",
    "# interpret the results as a 'counts' dictionary\n",
    "print(\"Results: \", result.get_counts())\n"
   ]
  },
  {
   "cell_type": "code",
   "execution_count": 11,
   "metadata": {},
   "outputs": [
    {
     "data": {
      "text/html": [
       "<pre style=\"word-wrap: normal;white-space: pre;background: #fff0;line-height: 1.1;font-family: &quot;Courier New&quot;,Courier,monospace\">     ┌───┐                     \n",
       "q_0: ┤ X ├──■─────────■────────\n",
       "     ├───┤  │         │        \n",
       "q_1: ┤ X ├──┼────■────■────────\n",
       "     └───┘┌─┴─┐┌─┴─┐  │  ┌─┐   \n",
       "q_2: ─────┤ X ├┤ X ├──┼──┤M├───\n",
       "          └───┘└───┘┌─┴─┐└╥┘┌─┐\n",
       "q_3: ───────────────┤ X ├─╫─┤M├\n",
       "                    └───┘ ║ └╥┘\n",
       "c: 2/═════════════════════╩══╩═\n",
       "                          0  1 </pre>"
      ],
      "text/plain": [
       "     ┌───┐                     \n",
       "q_0: ┤ X ├──■─────────■────────\n",
       "     ├───┤  │         │        \n",
       "q_1: ┤ X ├──┼────■────■────────\n",
       "     └───┘┌─┴─┐┌─┴─┐  │  ┌─┐   \n",
       "q_2: ─────┤ X ├┤ X ├──┼──┤M├───\n",
       "          └───┘└───┘┌─┴─┐└╥┘┌─┐\n",
       "q_3: ───────────────┤ X ├─╫─┤M├\n",
       "                    └───┘ ║ └╥┘\n",
       "c: 2/═════════════════════╩══╩═\n",
       "                          0  1 "
      ]
     },
     "execution_count": 11,
     "metadata": {},
     "output_type": "execute_result"
    }
   ],
   "source": [
    "\"\"\"\n",
    "CALCULATING THE LEFT OUTPUT BIT\n",
    "this can be done following the rules;\n",
    "1. 0 + 0 = 00\n",
    "2. 0 + 1 = 01\n",
    "3. 1 + 0 = 01\n",
    "4. 1 + 1 = 10\n",
    "\n",
    " * Since only one of the above breeds a 1 in the left output,\n",
    "so to perform this calculation we'll need to tell the computer\n",
    "to look at whether both inputs are 1.\n",
    "* if they are we'll need a NOT gate on qubit 3 which flips it to the required\n",
    "value of 1 for this case only.\n",
    "* For this we'll need a new gate(Toffoli gate) which like a CNOT is controlled\n",
    "on two qubits instead of one\n",
    "* This performs a NOT on the target qubit only when both controls are in state '1'\n",
    "(This is an AND gate in boolean logic gates)\n",
    "Let's try this below\n",
    "\n",
    "\"\"\"\n",
    "from qiskit import QuantumCircuit\n",
    "test_qc = QuantumCircuit(4,2)\n",
    "\n",
    "# encode an input (here '11')\n",
    "test_qc.x(0)\n",
    "test_qc.x(1)\n",
    "\n",
    "# then carry out the adder circuit created\n",
    "test_qc.cx(0,2)\n",
    "test_qc.cx(1,2)\n",
    "test_qc.ccx(0,1,3)\n",
    "\n",
    "# finally, measure the bottom two qubits to extract output\n",
    "test_qc.measure(2,0)\n",
    "test_qc.measure(3,1)\n",
    "test_qc.draw()\n",
    "\n"
   ]
  },
  {
   "cell_type": "code",
   "execution_count": 12,
   "metadata": {},
   "outputs": [
    {
     "name": "stdout",
     "output_type": "stream",
     "text": [
      "Results:  {'10': 1024}\n"
     ]
    }
   ],
   "source": [
    "# Running the experiment\n",
    "job = sim.run(test_qc)\n",
    "result = job.result() # get the results\n",
    "print(\"Results: \", result.get_counts()) # Print the results out\n",
    "\"\"\"\n",
    "Essentially the Toffoli gate is the atom of mathematics,\n",
    "the simplest element, from which every other problem-solving\n",
    "technique can be compiled\n",
    "\"\"\""
   ]
  },
  {
   "cell_type": "code",
   "execution_count": null,
   "metadata": {},
   "outputs": [],
   "source": [
    "\"\"\"\n",
    "WHAT IS QUANTUM?\n",
    "* Quantum physics on a simpler scale is the set of rules used to\n",
    "study behavior of things on an atomic/quantized level.\n",
    "* Before this the behavior of things around us was only studied \n",
    "using classical physics.\n",
    "* And since the bits stored using punch cards and compact disks follow the rules of  classical physics\n",
    "the question then became 'What if computers stored bits following the rules of Quantum physics?'\n",
    "* Hence the birth of the qubit(Quantum bit) and subsequently the Quantum computer: still in development\n",
    "* Operations done on qubits using the Hadamard gate(H-gate) show that the two probabilistic operations\n",
    "applied in sequence seem to cancel each other. \n",
    "* This means that it will be difficult to describe such behavior on a probabilistic tree(s)\n",
    "* This behavior can only be described using probability amplitudes.\n",
    "These have the following characteristics(similar to normal probability):\n",
    "1. amplitudes have a magnitude\n",
    "2. each possible outcome is assigned a probability amplitude\n",
    "3. the magnitude of the outcome determines how likely it can occur\n",
    "In addition these amplitudes also have:\n",
    "* phase: an angle showing the direction the amplitude points\n",
    "* direction\n",
    "\n",
    "* An amplitude can be described as a complex number, in which when added to another amplitude,\n",
    "they cancel each other out: a behavior know as interference\n",
    "* Now if we are to find the probability of measuring an outcome, we'll need to square the magnitude\n",
    "of the outcome's amplitude; a mathematical soln to help things make sense in the end.\n",
    "* Using this model we can't say the qubit takes a specific route since the interfrence is not visible\n",
    "to us. Hence the birth of \"qubit can be 0 and 1 at the same time\" which isn't completely wrong, but not\n",
    "useful to those studying quantum computing.\n",
    "* This behavior is not common in a normal setting thus there aren't common words for it.\n",
    "* The accurate terms will make more sense as this exploration goes on.\n",
    "\n",
    "* Using amplitude trees can get messy due to the number of branches and labels, \n",
    "making a complete over complication of even a small no. of qubits.\n",
    "* To solve this, scientists implemented vectors(can be equated to lists of numbers),\n",
    "that store/track amplitudes of the possible outcomes.\n",
    "\n",
    "WHY THEN USE QUANTUM COMPUTERS?\n",
    "* To simulate a minimal number of qubits is easy, however, for a larger number of qubits\n",
    "this will take lots of time and memory to manage.\n",
    "* Think of it this way: \n",
    "1. for n qubits there are 2^n outcomes\n",
    "2. and to predict the behavior of n qubits using vectors\n",
    "you need to keep track of at most 2^n amplitudes\n",
    "\n",
    "Which would take a crazy amount of resources to simulate.\n",
    "\n",
    "* The upper limit for simulating a difficult quantum circuit ranges between 30 and 40 qubits\n",
    "\n",
    "** TRY THE EXERCISE ON THE IBM QUANTUM COMPOSER **\n",
    "\"\"\""
   ]
  }
 ],
 "metadata": {
  "interpreter": {
   "hash": "916dbcbb3f70747c44a77c7bcd40155683ae19c65e1c03b4aa3499c5328201f1"
  },
  "kernelspec": {
   "display_name": "Python 3 (ipykernel)",
   "language": "python",
   "name": "python3"
  },
  "language_info": {
   "codemirror_mode": {
    "name": "ipython",
    "version": 3
   },
   "file_extension": ".py",
   "mimetype": "text/x-python",
   "name": "python",
   "nbconvert_exporter": "python",
   "pygments_lexer": "ipython3",
   "version": "3.8.10"
  }
 },
 "nbformat": 4,
 "nbformat_minor": 2
}
